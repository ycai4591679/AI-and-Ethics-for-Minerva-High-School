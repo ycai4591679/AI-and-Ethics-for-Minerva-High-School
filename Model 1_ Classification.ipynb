{
 "cells": [
  {
   "cell_type": "markdown",
   "metadata": {
    "collapsed": true
   },
   "source": [
    "# Classification "
   ]
  },
  {
   "cell_type": "markdown",
   "metadata": {},
   "source": [
    "### THE DATA"
   ]
  },
  {
   "cell_type": "markdown",
   "metadata": {},
   "source": [
    "** Read in the census_data.csv data with pandas**"
   ]
  },
  {
   "cell_type": "code",
   "execution_count": 1,
   "metadata": {},
   "outputs": [],
   "source": [
    "import pandas as pd"
   ]
  },
  {
   "cell_type": "code",
   "execution_count": 2,
   "metadata": {},
   "outputs": [],
   "source": [
    "census= pd.read_csv(\"case3data.csv\")"
   ]
  },
  {
   "cell_type": "code",
   "execution_count": 3,
   "metadata": {},
   "outputs": [
    {
     "data": {
      "text/html": [
       "<div>\n",
       "<style scoped>\n",
       "    .dataframe tbody tr th:only-of-type {\n",
       "        vertical-align: middle;\n",
       "    }\n",
       "\n",
       "    .dataframe tbody tr th {\n",
       "        vertical-align: top;\n",
       "    }\n",
       "\n",
       "    .dataframe thead th {\n",
       "        text-align: right;\n",
       "    }\n",
       "</style>\n",
       "<table border=\"1\" class=\"dataframe\">\n",
       "  <thead>\n",
       "    <tr style=\"text-align: right;\">\n",
       "      <th></th>\n",
       "      <th>studentID</th>\n",
       "      <th>grade</th>\n",
       "      <th>year</th>\n",
       "      <th>dropped</th>\n",
       "      <th>zip</th>\n",
       "      <th>ethnicity</th>\n",
       "      <th>sex</th>\n",
       "      <th>gpa</th>\n",
       "      <th>subsidizedLunches</th>\n",
       "      <th>employmentHours</th>\n",
       "      <th>hrsWifiPerWeek</th>\n",
       "      <th>sanctions</th>\n",
       "      <th>librarySwipesPerWeek</th>\n",
       "      <th>apClasses</th>\n",
       "      <th>athleticSeasons</th>\n",
       "    </tr>\n",
       "  </thead>\n",
       "  <tbody>\n",
       "    <tr>\n",
       "      <th>0</th>\n",
       "      <td>12006</td>\n",
       "      <td>12thGrade</td>\n",
       "      <td>2012</td>\n",
       "      <td>0</td>\n",
       "      <td>15232</td>\n",
       "      <td>African American</td>\n",
       "      <td>F</td>\n",
       "      <td>1.89</td>\n",
       "      <td>None</td>\n",
       "      <td>0</td>\n",
       "      <td>4</td>\n",
       "      <td>detention</td>\n",
       "      <td>1</td>\n",
       "      <td>1</td>\n",
       "      <td>0</td>\n",
       "    </tr>\n",
       "    <tr>\n",
       "      <th>1</th>\n",
       "      <td>12008</td>\n",
       "      <td>12thGrade</td>\n",
       "      <td>2012</td>\n",
       "      <td>0</td>\n",
       "      <td>15206</td>\n",
       "      <td>African American</td>\n",
       "      <td>M</td>\n",
       "      <td>2.21</td>\n",
       "      <td>Partly</td>\n",
       "      <td>0</td>\n",
       "      <td>10</td>\n",
       "      <td>nothing</td>\n",
       "      <td>3</td>\n",
       "      <td>0</td>\n",
       "      <td>0</td>\n",
       "    </tr>\n",
       "    <tr>\n",
       "      <th>2</th>\n",
       "      <td>12009</td>\n",
       "      <td>12thGrade</td>\n",
       "      <td>2012</td>\n",
       "      <td>0</td>\n",
       "      <td>15206</td>\n",
       "      <td>African American</td>\n",
       "      <td>M</td>\n",
       "      <td>2.72</td>\n",
       "      <td>None</td>\n",
       "      <td>0</td>\n",
       "      <td>8</td>\n",
       "      <td>nothing</td>\n",
       "      <td>6</td>\n",
       "      <td>0</td>\n",
       "      <td>0</td>\n",
       "    </tr>\n",
       "    <tr>\n",
       "      <th>3</th>\n",
       "      <td>12010</td>\n",
       "      <td>12thGrade</td>\n",
       "      <td>2012</td>\n",
       "      <td>1</td>\n",
       "      <td>15206</td>\n",
       "      <td>White</td>\n",
       "      <td>M</td>\n",
       "      <td>1.67</td>\n",
       "      <td>None</td>\n",
       "      <td>0</td>\n",
       "      <td>4</td>\n",
       "      <td>nothing</td>\n",
       "      <td>6</td>\n",
       "      <td>2</td>\n",
       "      <td>0</td>\n",
       "    </tr>\n",
       "    <tr>\n",
       "      <th>4</th>\n",
       "      <td>12014</td>\n",
       "      <td>12thGrade</td>\n",
       "      <td>2012</td>\n",
       "      <td>0</td>\n",
       "      <td>15201</td>\n",
       "      <td>African American</td>\n",
       "      <td>M</td>\n",
       "      <td>2.00</td>\n",
       "      <td>Fully</td>\n",
       "      <td>0</td>\n",
       "      <td>8</td>\n",
       "      <td>nothing</td>\n",
       "      <td>5</td>\n",
       "      <td>0</td>\n",
       "      <td>0</td>\n",
       "    </tr>\n",
       "  </tbody>\n",
       "</table>\n",
       "</div>"
      ],
      "text/plain": [
       "   studentID      grade  year  dropped    zip         ethnicity sex   gpa  \\\n",
       "0      12006  12thGrade  2012        0  15232  African American   F  1.89   \n",
       "1      12008  12thGrade  2012        0  15206  African American   M  2.21   \n",
       "2      12009  12thGrade  2012        0  15206  African American   M  2.72   \n",
       "3      12010  12thGrade  2012        1  15206             White   M  1.67   \n",
       "4      12014  12thGrade  2012        0  15201  African American   M  2.00   \n",
       "\n",
       "  subsidizedLunches  employmentHours  hrsWifiPerWeek  sanctions  \\\n",
       "0              None                0               4  detention   \n",
       "1            Partly                0              10    nothing   \n",
       "2              None                0               8    nothing   \n",
       "3              None                0               4    nothing   \n",
       "4             Fully                0               8    nothing   \n",
       "\n",
       "   librarySwipesPerWeek  apClasses  athleticSeasons  \n",
       "0                     1          1                0  \n",
       "1                     3          0                0  \n",
       "2                     6          0                0  \n",
       "3                     6          2                0  \n",
       "4                     5          0                0  "
      ]
     },
     "execution_count": 3,
     "metadata": {},
     "output_type": "execute_result"
    }
   ],
   "source": [
    "census.head()"
   ]
  },
  {
   "cell_type": "code",
   "execution_count": 21,
   "metadata": {},
   "outputs": [],
   "source": [
    "census['ColumnID'] = census['year'].astype(str)\n",
    "census['apClasses'] = census['apClasses'].astype(str)\n",
    "census['athleticSeasons'] = census['athleticSeasons'].astype(str)\n",
    "census['zip'] = census['zip'].astype(str)\n",
    "census['year'] = census['year'].astype(str)"
   ]
  },
  {
   "cell_type": "code",
   "execution_count": 22,
   "metadata": {},
   "outputs": [
    {
     "data": {
      "text/html": [
       "<div>\n",
       "<style scoped>\n",
       "    .dataframe tbody tr th:only-of-type {\n",
       "        vertical-align: middle;\n",
       "    }\n",
       "\n",
       "    .dataframe tbody tr th {\n",
       "        vertical-align: top;\n",
       "    }\n",
       "\n",
       "    .dataframe thead th {\n",
       "        text-align: right;\n",
       "    }\n",
       "</style>\n",
       "<table border=\"1\" class=\"dataframe\">\n",
       "  <thead>\n",
       "    <tr style=\"text-align: right;\">\n",
       "      <th></th>\n",
       "      <th>studentID</th>\n",
       "      <th>grade</th>\n",
       "      <th>year</th>\n",
       "      <th>dropped</th>\n",
       "      <th>zip</th>\n",
       "      <th>ethnicity</th>\n",
       "      <th>sex</th>\n",
       "      <th>gpa</th>\n",
       "      <th>subsidizedLunches</th>\n",
       "      <th>employmentHours</th>\n",
       "      <th>hrsWifiPerWeek</th>\n",
       "      <th>sanctions</th>\n",
       "      <th>librarySwipesPerWeek</th>\n",
       "      <th>apClasses</th>\n",
       "      <th>athleticSeasons</th>\n",
       "      <th>ColumnID</th>\n",
       "    </tr>\n",
       "  </thead>\n",
       "  <tbody>\n",
       "    <tr>\n",
       "      <th>0</th>\n",
       "      <td>12006</td>\n",
       "      <td>12thGrade</td>\n",
       "      <td>2012</td>\n",
       "      <td>0</td>\n",
       "      <td>15232</td>\n",
       "      <td>African American</td>\n",
       "      <td>F</td>\n",
       "      <td>1.89</td>\n",
       "      <td>None</td>\n",
       "      <td>0</td>\n",
       "      <td>4</td>\n",
       "      <td>detention</td>\n",
       "      <td>1</td>\n",
       "      <td>1</td>\n",
       "      <td>0</td>\n",
       "      <td>2012</td>\n",
       "    </tr>\n",
       "    <tr>\n",
       "      <th>1</th>\n",
       "      <td>12008</td>\n",
       "      <td>12thGrade</td>\n",
       "      <td>2012</td>\n",
       "      <td>0</td>\n",
       "      <td>15206</td>\n",
       "      <td>African American</td>\n",
       "      <td>M</td>\n",
       "      <td>2.21</td>\n",
       "      <td>Partly</td>\n",
       "      <td>0</td>\n",
       "      <td>10</td>\n",
       "      <td>nothing</td>\n",
       "      <td>3</td>\n",
       "      <td>0</td>\n",
       "      <td>0</td>\n",
       "      <td>2012</td>\n",
       "    </tr>\n",
       "    <tr>\n",
       "      <th>2</th>\n",
       "      <td>12009</td>\n",
       "      <td>12thGrade</td>\n",
       "      <td>2012</td>\n",
       "      <td>0</td>\n",
       "      <td>15206</td>\n",
       "      <td>African American</td>\n",
       "      <td>M</td>\n",
       "      <td>2.72</td>\n",
       "      <td>None</td>\n",
       "      <td>0</td>\n",
       "      <td>8</td>\n",
       "      <td>nothing</td>\n",
       "      <td>6</td>\n",
       "      <td>0</td>\n",
       "      <td>0</td>\n",
       "      <td>2012</td>\n",
       "    </tr>\n",
       "    <tr>\n",
       "      <th>3</th>\n",
       "      <td>12010</td>\n",
       "      <td>12thGrade</td>\n",
       "      <td>2012</td>\n",
       "      <td>1</td>\n",
       "      <td>15206</td>\n",
       "      <td>White</td>\n",
       "      <td>M</td>\n",
       "      <td>1.67</td>\n",
       "      <td>None</td>\n",
       "      <td>0</td>\n",
       "      <td>4</td>\n",
       "      <td>nothing</td>\n",
       "      <td>6</td>\n",
       "      <td>2</td>\n",
       "      <td>0</td>\n",
       "      <td>2012</td>\n",
       "    </tr>\n",
       "    <tr>\n",
       "      <th>4</th>\n",
       "      <td>12014</td>\n",
       "      <td>12thGrade</td>\n",
       "      <td>2012</td>\n",
       "      <td>0</td>\n",
       "      <td>15201</td>\n",
       "      <td>African American</td>\n",
       "      <td>M</td>\n",
       "      <td>2.00</td>\n",
       "      <td>Fully</td>\n",
       "      <td>0</td>\n",
       "      <td>8</td>\n",
       "      <td>nothing</td>\n",
       "      <td>5</td>\n",
       "      <td>0</td>\n",
       "      <td>0</td>\n",
       "      <td>2012</td>\n",
       "    </tr>\n",
       "  </tbody>\n",
       "</table>\n",
       "</div>"
      ],
      "text/plain": [
       "   studentID      grade  year  dropped    zip         ethnicity sex   gpa  \\\n",
       "0      12006  12thGrade  2012        0  15232  African American   F  1.89   \n",
       "1      12008  12thGrade  2012        0  15206  African American   M  2.21   \n",
       "2      12009  12thGrade  2012        0  15206  African American   M  2.72   \n",
       "3      12010  12thGrade  2012        1  15206             White   M  1.67   \n",
       "4      12014  12thGrade  2012        0  15201  African American   M  2.00   \n",
       "\n",
       "  subsidizedLunches  employmentHours  hrsWifiPerWeek  sanctions  \\\n",
       "0              None                0               4  detention   \n",
       "1            Partly                0              10    nothing   \n",
       "2              None                0               8    nothing   \n",
       "3              None                0               4    nothing   \n",
       "4             Fully                0               8    nothing   \n",
       "\n",
       "   librarySwipesPerWeek apClasses athleticSeasons ColumnID  \n",
       "0                     1         1               0     2012  \n",
       "1                     3         0               0     2012  \n",
       "2                     6         0               0     2012  \n",
       "3                     6         2               0     2012  \n",
       "4                     5         0               0     2012  "
      ]
     },
     "execution_count": 22,
     "metadata": {},
     "output_type": "execute_result"
    }
   ],
   "source": [
    "census.head()"
   ]
  },
  {
   "cell_type": "code",
   "execution_count": 23,
   "metadata": {},
   "outputs": [],
   "source": [
    "x_data = census.drop(['dropped','studentID'],axis=1)\n",
    "y_labels = census['dropped']"
   ]
  },
  {
   "cell_type": "code",
   "execution_count": 24,
   "metadata": {},
   "outputs": [],
   "source": [
    "from sklearn.model_selection import train_test_split"
   ]
  },
  {
   "cell_type": "code",
   "execution_count": 25,
   "metadata": {},
   "outputs": [
    {
     "data": {
      "text/plain": [
       "Index(['studentID', 'grade', 'year', 'dropped', 'zip', 'ethnicity', 'sex',\n",
       "       'gpa', 'subsidizedLunches', 'employmentHours', 'hrsWifiPerWeek',\n",
       "       'sanctions', 'librarySwipesPerWeek', 'apClasses', 'athleticSeasons',\n",
       "       'ColumnID'],\n",
       "      dtype='object')"
      ]
     },
     "execution_count": 25,
     "metadata": {},
     "output_type": "execute_result"
    }
   ],
   "source": [
    "census.columns"
   ]
  },
  {
   "cell_type": "markdown",
   "metadata": {},
   "source": [
    "### Perform a Train Test Split on the Data"
   ]
  },
  {
   "cell_type": "code",
   "execution_count": 26,
   "metadata": {},
   "outputs": [],
   "source": [
    "X_train, X_test, y_train, y_test = train_test_split(x_data,y_labels,test_size=0.3,random_state=101)"
   ]
  },
  {
   "cell_type": "code",
   "execution_count": 27,
   "metadata": {},
   "outputs": [
    {
     "name": "stdout",
     "output_type": "stream",
     "text": [
      "<class 'pandas.core.frame.DataFrame'>\n",
      "RangeIndex: 17885 entries, 0 to 17884\n",
      "Data columns (total 16 columns):\n",
      "studentID               17885 non-null int64\n",
      "grade                   17885 non-null object\n",
      "year                    17885 non-null object\n",
      "dropped                 17885 non-null int64\n",
      "zip                     17885 non-null object\n",
      "ethnicity               17885 non-null object\n",
      "sex                     17885 non-null object\n",
      "gpa                     17885 non-null float64\n",
      "subsidizedLunches       17885 non-null object\n",
      "employmentHours         17885 non-null int64\n",
      "hrsWifiPerWeek          17885 non-null int64\n",
      "sanctions               17885 non-null object\n",
      "librarySwipesPerWeek    17885 non-null int64\n",
      "apClasses               17885 non-null object\n",
      "athleticSeasons         17885 non-null object\n",
      "ColumnID                17885 non-null object\n",
      "dtypes: float64(1), int64(5), object(10)\n",
      "memory usage: 2.2+ MB\n"
     ]
    }
   ],
   "source": [
    "census.info()"
   ]
  },
  {
   "cell_type": "code",
   "execution_count": 28,
   "metadata": {},
   "outputs": [
    {
     "name": "stdout",
     "output_type": "stream",
     "text": [
      "<class 'pandas.core.frame.DataFrame'>\n",
      "Int64Index: 12519 entries, 57 to 13151\n",
      "Data columns (total 14 columns):\n",
      "grade                   12519 non-null object\n",
      "year                    12519 non-null object\n",
      "zip                     12519 non-null object\n",
      "ethnicity               12519 non-null object\n",
      "sex                     12519 non-null object\n",
      "gpa                     12519 non-null float64\n",
      "subsidizedLunches       12519 non-null object\n",
      "employmentHours         12519 non-null int64\n",
      "hrsWifiPerWeek          12519 non-null int64\n",
      "sanctions               12519 non-null object\n",
      "librarySwipesPerWeek    12519 non-null int64\n",
      "apClasses               12519 non-null object\n",
      "athleticSeasons         12519 non-null object\n",
      "ColumnID                12519 non-null object\n",
      "dtypes: float64(1), int64(3), object(10)\n",
      "memory usage: 1.4+ MB\n"
     ]
    }
   ],
   "source": [
    "X_train.info()"
   ]
  },
  {
   "cell_type": "markdown",
   "metadata": {},
   "source": [
    "### Create the Feature Columns for tf.esitmator\n",
    "\n",
    "** Take note of categorical vs continuous values! **"
   ]
  },
  {
   "cell_type": "code",
   "execution_count": 29,
   "metadata": {},
   "outputs": [
    {
     "data": {
      "text/plain": [
       "Index(['studentID', 'grade', 'year', 'dropped', 'zip', 'ethnicity', 'sex',\n",
       "       'gpa', 'subsidizedLunches', 'employmentHours', 'hrsWifiPerWeek',\n",
       "       'sanctions', 'librarySwipesPerWeek', 'apClasses', 'athleticSeasons',\n",
       "       'ColumnID'],\n",
       "      dtype='object')"
      ]
     },
     "execution_count": 29,
     "metadata": {},
     "output_type": "execute_result"
    }
   ],
   "source": [
    "census.columns"
   ]
  },
  {
   "cell_type": "markdown",
   "metadata": {},
   "source": [
    "** Import Tensorflow **"
   ]
  },
  {
   "cell_type": "code",
   "execution_count": 30,
   "metadata": {},
   "outputs": [],
   "source": [
    "import tensorflow as tf"
   ]
  },
  {
   "cell_type": "markdown",
   "metadata": {
    "collapsed": true
   },
   "source": [
    "** Create the tf.feature_columns for the categorical values. Use vocabulary lists or just use hash buckets. **"
   ]
  },
  {
   "cell_type": "code",
   "execution_count": 31,
   "metadata": {},
   "outputs": [],
   "source": [
    "sex = tf.feature_column.categorical_column_with_vocabulary_list(\"sex\", [\"F\", \"M\"])\n",
    "grade = tf.feature_column.categorical_column_with_hash_bucket(\"grade\", hash_bucket_size=1000)\n",
    "zip = tf.feature_column.categorical_column_with_hash_bucket(\"zip\", hash_bucket_size=1000)\n",
    "ethnicity = tf.feature_column.categorical_column_with_hash_bucket(\"ethnicity\", hash_bucket_size=1000)\n",
    "subsidizedLunches = tf.feature_column.categorical_column_with_hash_bucket(\"subsidizedLunches\", hash_bucket_size=1000)\n",
    "sanctions = tf.feature_column.categorical_column_with_hash_bucket(\"sanctions\", hash_bucket_size=1000)\n",
    "apClasses = tf.feature_column.categorical_column_with_hash_bucket(\"apClasses\", hash_bucket_size=1000)\n",
    "athleticSeasons = tf.feature_column.categorical_column_with_hash_bucket(\"athleticSeasons\", hash_bucket_size=1000)\n",
    "year = tf.feature_column.categorical_column_with_hash_bucket(\"year\", hash_bucket_size=1000)"
   ]
  },
  {
   "cell_type": "markdown",
   "metadata": {},
   "source": [
    "** Create the continuous feature_columns for the continuous values using numeric_column **"
   ]
  },
  {
   "cell_type": "code",
   "execution_count": 32,
   "metadata": {},
   "outputs": [],
   "source": [
    "gpa = tf.feature_column.numeric_column(\"gpa\")\n",
    "hrsWifiPerWeek= tf.feature_column.numeric_column(\"hrsWifiPerWeek\")\n",
    "librarySwipesPerWeek = tf.feature_column.numeric_column(\"librarySwipesPerWeek\")\n",
    "employmentHours = tf.feature_column.numeric_column(\"employmentHours\")\n",
    "#apClasses = tf.feature_column.numeric_column(\"apClasses\")\n",
    "\n",
    "#hours_per_week = tf.feature_column.numeric_column(\"hours_per_week\")"
   ]
  },
  {
   "cell_type": "markdown",
   "metadata": {},
   "source": [
    "** Put all these variables into a single list with the variable name feat_cols **"
   ]
  },
  {
   "cell_type": "code",
   "execution_count": 33,
   "metadata": {},
   "outputs": [],
   "source": [
    "feat_cols = [grade, year, zip, ethnicity, sex,\n",
    "       gpa, subsidizedLunches, employmentHours, hrsWifiPerWeek,\n",
    "       sanctions, librarySwipesPerWeek, apClasses, athleticSeasons]"
   ]
  },
  {
   "cell_type": "markdown",
   "metadata": {},
   "source": [
    "### Create Input Function\n",
    "\n",
    "** Batch_size is up to you. But do make sure to shuffle!**"
   ]
  },
  {
   "cell_type": "code",
   "execution_count": 34,
   "metadata": {},
   "outputs": [],
   "source": [
    "input_func=tf.estimator.inputs.pandas_input_fn(x=X_train,y=y_train,batch_size=100,num_epochs=None,shuffle=True)"
   ]
  },
  {
   "cell_type": "markdown",
   "metadata": {},
   "source": [
    "#### Create your model with tf.estimator\n",
    "\n",
    "**Create a LinearClassifier.(If you want to use a DNNClassifier, keep in mind you'll need to create embedded columns out of the cateogrical feature that use strings, check out the previous lecture on this for more info.)**"
   ]
  },
  {
   "cell_type": "code",
   "execution_count": 46,
   "metadata": {},
   "outputs": [
    {
     "name": "stderr",
     "output_type": "stream",
     "text": [
      "W0221 18:24:12.785568 25364 estimator.py:1811] Using temporary folder as model directory: C:\\Users\\caiyi\\AppData\\Local\\Temp\\tmpwz_h11tr\n"
     ]
    }
   ],
   "source": [
    "# Linear Reg.\n",
    "model = tf.estimator.LinearClassifier(feature_columns=feat_cols)\n",
    "# DNNRegressor Model\n",
    "#model = tf.estimator.DNNRegressor(hidden_units=[14,20,20,20,14],feature_columns=feat_cols)"
   ]
  },
  {
   "cell_type": "markdown",
   "metadata": {},
   "source": [
    "** Train your model on the data, for at least 5000 steps. **"
   ]
  },
  {
   "cell_type": "code",
   "execution_count": 47,
   "metadata": {},
   "outputs": [
    {
     "data": {
      "text/plain": [
       "<tensorflow_estimator.python.estimator.canned.linear.LinearClassifier at 0x218f591e4a8>"
      ]
     },
     "execution_count": 47,
     "metadata": {},
     "output_type": "execute_result"
    }
   ],
   "source": [
    "model.train(input_fn=input_func,steps=5000)"
   ]
  },
  {
   "cell_type": "markdown",
   "metadata": {},
   "source": [
    "### Evaluation\n",
    "\n",
    "** Create a prediction input function. Remember to only supprt X_test data and keep shuffle=False. **"
   ]
  },
  {
   "cell_type": "code",
   "execution_count": 37,
   "metadata": {},
   "outputs": [],
   "source": [
    "pred_fn = tf.estimator.inputs.pandas_input_fn(x=X_test,batch_size=len(X_test),shuffle=False)"
   ]
  },
  {
   "cell_type": "markdown",
   "metadata": {},
   "source": [
    "** Use model.predict() and pass in your input function. This will produce a generator of predictions, which you can then transform into a list, with list() **"
   ]
  },
  {
   "cell_type": "code",
   "execution_count": 38,
   "metadata": {},
   "outputs": [
    {
     "name": "stderr",
     "output_type": "stream",
     "text": [
      "W0221 18:01:56.635376 25364 deprecation.py:323] From C:\\Users\\caiyi\\Anaconda3\\lib\\site-packages\\tensorflow\\python\\training\\saver.py:1276: checkpoint_exists (from tensorflow.python.training.checkpoint_management) is deprecated and will be removed in a future version.\n",
      "Instructions for updating:\n",
      "Use standard file APIs to check for files with this prefix.\n"
     ]
    }
   ],
   "source": [
    "predictions = list(model.predict(input_fn=pred_fn))"
   ]
  },
  {
   "cell_type": "markdown",
   "metadata": {},
   "source": [
    "** Each item in your list will look like this: **"
   ]
  },
  {
   "cell_type": "code",
   "execution_count": 39,
   "metadata": {},
   "outputs": [
    {
     "data": {
      "text/plain": [
       "{'logits': array([-0.5897915], dtype=float32),\n",
       " 'logistic': array([0.35668272], dtype=float32),\n",
       " 'probabilities': array([0.6433173, 0.3566827], dtype=float32),\n",
       " 'class_ids': array([0], dtype=int64),\n",
       " 'classes': array([b'0'], dtype=object),\n",
       " 'all_class_ids': array([0, 1]),\n",
       " 'all_classes': array([b'0', b'1'], dtype=object)}"
      ]
     },
     "execution_count": 39,
     "metadata": {},
     "output_type": "execute_result"
    }
   ],
   "source": [
    "predictions[0]"
   ]
  },
  {
   "cell_type": "markdown",
   "metadata": {},
   "source": [
    "** Create a list of only the class_ids key values from the prediction list of dictionaries, these are the predictions you will use to compare against the real y_test values. **"
   ]
  },
  {
   "cell_type": "code",
   "execution_count": 40,
   "metadata": {},
   "outputs": [],
   "source": [
    "final_preds = []\n",
    "for pred in predictions:\n",
    "    final_preds.append(pred['class_ids'][0])"
   ]
  },
  {
   "cell_type": "code",
   "execution_count": 41,
   "metadata": {},
   "outputs": [
    {
     "data": {
      "text/plain": [
       "[0, 0, 0, 0, 0, 0, 1, 0, 0, 0]"
      ]
     },
     "execution_count": 41,
     "metadata": {},
     "output_type": "execute_result"
    }
   ],
   "source": [
    "final_preds[:10]"
   ]
  },
  {
   "cell_type": "markdown",
   "metadata": {},
   "source": [
    "** Import classification_report from sklearn.metrics and then see if you can figure out how to use it to easily get a full report of your model's performance on the test data. **"
   ]
  },
  {
   "cell_type": "code",
   "execution_count": 42,
   "metadata": {},
   "outputs": [],
   "source": [
    "from sklearn.metrics import classification_report"
   ]
  },
  {
   "cell_type": "code",
   "execution_count": 43,
   "metadata": {},
   "outputs": [
    {
     "name": "stdout",
     "output_type": "stream",
     "text": [
      "              precision    recall  f1-score   support\n",
      "\n",
      "           0       0.95      1.00      0.97      5037\n",
      "           1       0.76      0.19      0.31       329\n",
      "\n",
      "    accuracy                           0.95      5366\n",
      "   macro avg       0.85      0.59      0.64      5366\n",
      "weighted avg       0.94      0.95      0.93      5366\n",
      "\n"
     ]
    }
   ],
   "source": [
    "print(classification_report(y_test,final_preds))"
   ]
  },
  {
   "cell_type": "code",
   "execution_count": null,
   "metadata": {},
   "outputs": [],
   "source": []
  },
  {
   "cell_type": "code",
   "execution_count": null,
   "metadata": {},
   "outputs": [],
   "source": []
  },
  {
   "cell_type": "code",
   "execution_count": null,
   "metadata": {},
   "outputs": [],
   "source": []
  },
  {
   "cell_type": "code",
   "execution_count": null,
   "metadata": {},
   "outputs": [],
   "source": []
  },
  {
   "cell_type": "code",
   "execution_count": null,
   "metadata": {},
   "outputs": [],
   "source": []
  },
  {
   "cell_type": "markdown",
   "metadata": {
    "collapsed": true
   },
   "source": [
    "# Great Job!"
   ]
  }
 ],
 "metadata": {
  "kernelspec": {
   "display_name": "Python 3",
   "language": "python",
   "name": "python3"
  },
  "language_info": {
   "codemirror_mode": {
    "name": "ipython",
    "version": 3
   },
   "file_extension": ".py",
   "mimetype": "text/x-python",
   "name": "python",
   "nbconvert_exporter": "python",
   "pygments_lexer": "ipython3",
   "version": "3.7.3"
  }
 },
 "nbformat": 4,
 "nbformat_minor": 2
}
